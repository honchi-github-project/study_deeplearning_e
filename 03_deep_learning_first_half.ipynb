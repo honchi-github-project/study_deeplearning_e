{
 "cells": [
  {
   "cell_type": "markdown",
   "metadata": {
    "colab_type": "text",
    "id": "n4fhror4LEgr"
   },
   "source": [
    "iStudy ACADEMY 現場で潰しが効くディープラーニング講座 視聴課題レポート 深層学習 前半1,2（講義動画と実装演習）\n",
    "\n",
    "# 深層学習 前半1\n",
    "\n",
    "## 参考文献・URL\n"
   ]
  },
  {
   "cell_type": "code",
   "execution_count": 2,
   "metadata": {},
   "outputs": [],
   "source": [
    "# 利用ライブラリ\n",
    "import numpy as np"
   ]
  },
  {
   "cell_type": "markdown",
   "metadata": {},
   "source": [
    "# ニューラルネットワークの全体像\n",
    "\n",
    "- ポイント\n",
    "  - 回帰や分類など手段があるが、求めたい出力を何か深く考え、入力値をよく考えて設計する。\n"
   ]
  },
  {
   "cell_type": "markdown",
   "metadata": {},
   "source": [
    "#### 確認テスト\n",
    "\n",
    "- Q : ディープラーニングは、結局何をやろうとしているのか二行以内で述べよ。また、どの値の最適化が最終目的か。全て選べ。  \n",
    "①入力値[X] ②出力値[Y] ③重み[W]④バイアス[b] ⑤総入力[u] ⑥中間層入力[z] ⑦学習率[ρ]\n",
    "\n",
    "`考察`\n",
    "\n",
    "- よく考え選択された大量の入力値を用い、汎化性能が高いモデルを生成すること。またその出力値(予想値)を活用し、問題を解決することではないか。\n",
    "- 最適化された ②出力値[Y] を得ることが最終目的と考えられる。  \n",
    "パラメータ最適化の観点では、③重み[W]④バイアス[b] ⑦学習率[ρ] である。\n"
   ]
  },
  {
   "cell_type": "markdown",
   "metadata": {},
   "source": [
    "- Q : 次のネットワークを紙にかけ。\n",
    "\n",
    "入力層 : 2ノード1層  \n",
    "中間層 : 3ノード2層  \n",
    "出力層 : 1ノード1層  \n",
    "\n",
    "`考察`\n",
    "\n",
    "<img src=\"./images/section_0.png\" width=\"500px\" />\n"
   ]
  },
  {
   "cell_type": "markdown",
   "metadata": {
    "colab_type": "text",
    "id": "erWaiWY6VPQ9"
   },
   "source": [
    "# Section1 : 入力層〜中間層\n",
    "\n",
    "- 入力層の入力 $x_i$ に重み $w_i$ がそれぞれ乗算し加算。バイアス $b$ も加算されたのち、中間層の入力 $u$ となる。\n",
    "- 重み $w_i$ は $x_i$ に対応し各層単位で存在する。\n",
    "- 重み $w_i$ と $b$ はネットワークのパラメータ"
   ]
  },
  {
   "cell_type": "markdown",
   "metadata": {},
   "source": [
    "#### 確認テスト\n",
    "\n",
    "- Q : 図式に動物分類の実例を入れてみよう。\n",
    "\n",
    "`考察`\n",
    "\n",
    "<img src=\"./images/section_1.png\" width=\"500px\" />\n"
   ]
  },
  {
   "cell_type": "markdown",
   "metadata": {},
   "source": [
    "- Q : この数式をPythonで書け。\n",
    "\n",
    "`考察`\n"
   ]
  },
  {
   "cell_type": "code",
   "execution_count": 9,
   "metadata": {},
   "outputs": [
    {
     "name": "stdout",
     "output_type": "stream",
     "text": [
      "11\n"
     ]
    }
   ],
   "source": [
    "def calc_u(W, x, b):\n",
    "    return W @ x.T + b  # Python3.5以上の記法\n",
    "\n",
    "# テスト\n",
    "W = np.array([1,2,3])\n",
    "x = np.array([3,2,1])\n",
    "b = 1\n",
    "\n",
    "print(calc_u(W,x,b))"
   ]
  },
  {
   "cell_type": "markdown",
   "metadata": {},
   "source": [
    "- Q : 1-1のファイルから中間層の出力を定義しているソースを抜き出せ。(1_1_forward_propagation.ipynb)\n",
    "\n",
    "`考察`\n",
    "\n",
    "```python\n",
    "# 中間層出力\n",
    "z = functions.relu(u)\n",
    "print_vec(\"中間層出力\", z)\n",
    "```\n"
   ]
  },
  {
   "cell_type": "markdown",
   "metadata": {
    "colab_type": "text",
    "id": "c8XKJrfWVZvl"
   },
   "source": [
    "# Section2 : 活性化関数\n"
   ]
  },
  {
   "cell_type": "markdown",
   "metadata": {},
   "source": [
    "#### 確認テスト\n",
    "\n",
    "- Q : 線形と非線形の違いを図に書いて簡易に説明せよ。\n"
   ]
  },
  {
   "cell_type": "markdown",
   "metadata": {},
   "source": [
    "- Q : 配布されたソースコードより該当する箇所を抜き出せ。\n"
   ]
  },
  {
   "cell_type": "markdown",
   "metadata": {
    "colab_type": "text",
    "id": "yjGuhvuAVhMI"
   },
   "source": [
    "# Section3 : 出力層\n"
   ]
  },
  {
   "cell_type": "markdown",
   "metadata": {},
   "source": [
    "# 3-1 : 誤差関数\n"
   ]
  },
  {
   "cell_type": "markdown",
   "metadata": {},
   "source": [
    "#### 確認テスト\n",
    "\n",
    "- Q : なぜ、引き算ではなく二乗するか答えよ。\n",
    "\n",
    "- Q : 下式の1/2はどういう意味を持つか述べよ。  \n",
    "$\\displaystyle E_n(w) = \\frac{1}{2}\\sum_{j=1}^l (y_j-d_j)^2 = \\frac{1}{2}||(y-d)||^2$\n"
   ]
  },
  {
   "cell_type": "markdown",
   "metadata": {},
   "source": [
    "# 3-2 : 出力層の活性化関数\n"
   ]
  },
  {
   "cell_type": "markdown",
   "metadata": {},
   "source": [
    "#### 確認テスト\n",
    "\n",
    "- Q : ①〜③の数式に該当するソースコードを示し、一行づつ処理の説明をさせよ。\n"
   ]
  },
  {
   "cell_type": "markdown",
   "metadata": {},
   "source": [
    "- Q : ①〜②の数式に該当するソースコードを示し、一行づつ処理の説明をせよ。\n"
   ]
  },
  {
   "cell_type": "markdown",
   "metadata": {},
   "source": [
    "# Section4 : 勾配降下法\n"
   ]
  },
  {
   "cell_type": "markdown",
   "metadata": {},
   "source": [
    "#### 確認テスト\n",
    "\n",
    "- Q : 該当するソースコードを探してみよう。\n",
    "\n",
    "$$\\displaystyle w^{(t+1)} = t^{(t)} - \\epsilon \\nabla E$$\n",
    "\n",
    "$$\\displaystyle \\nabla E = \\frac{\\partial E}{\\partial w} = [\\frac{\\partial E}{\\partial w_w} ... \\frac{\\partial E}{\\partial w_M}]$$\n"
   ]
  },
  {
   "cell_type": "markdown",
   "metadata": {},
   "source": [
    "- Q : オンライン学習とは何か２行でまとめよ。\n"
   ]
  },
  {
   "cell_type": "markdown",
   "metadata": {},
   "source": [
    "- Q : この数式の意味を図に書いて説明せよ。\n",
    "\n",
    "$$\\displaystyle w^{(t+1)} = w^{(t)} - \\epsilon \\nabla E_t$$\n"
   ]
  },
  {
   "cell_type": "markdown",
   "metadata": {},
   "source": [
    "# Section5 : 誤差逆伝搬法\n"
   ]
  },
  {
   "cell_type": "markdown",
   "metadata": {},
   "source": [
    "#### 確認テスト\n",
    "\n",
    "- Q : 誤差逆伝搬法では不要な再帰的処理を避ける事が出来る。  \n",
    "逆に行った計算結果を保持しているソースコードを抽出せよ。\n"
   ]
  },
  {
   "cell_type": "markdown",
   "metadata": {},
   "source": [
    "- Q : ２つの空欄に該当するソースコードを探せ。  \n",
    "$\\displaystyle \\frac{\\partial E}{\\partial y}\\frac{\\partial y}{\\partial u}$ ... ?  \n",
    "$\\displaystyle \\frac{\\partial E}{\\partial y}\\frac{\\partial y}{\\partial u}\\frac{\\partial u}{\\partial  w_{ji}^{(2)} }$ ... ?\n"
   ]
  },
  {
   "cell_type": "markdown",
   "metadata": {},
   "source": [
    "# 終了課題？\n"
   ]
  },
  {
   "cell_type": "markdown",
   "metadata": {},
   "source": []
  }
 ],
 "metadata": {
  "colab": {
   "collapsed_sections": [],
   "name": "03_深層学習_前半.ipynb",
   "provenance": [],
   "version": "0.3.2"
  },
  "kernelspec": {
   "display_name": "Python 3",
   "language": "python",
   "name": "python3"
  },
  "language_info": {
   "codemirror_mode": {
    "name": "ipython",
    "version": 3
   },
   "file_extension": ".py",
   "mimetype": "text/x-python",
   "name": "python",
   "nbconvert_exporter": "python",
   "pygments_lexer": "ipython3",
   "version": "3.6.1"
  }
 },
 "nbformat": 4,
 "nbformat_minor": 2
}
