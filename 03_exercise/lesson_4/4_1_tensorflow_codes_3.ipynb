{
 "cells": [
  {
   "cell_type": "markdown",
   "metadata": {},
   "source": [
    "## 分類1層 (mnist)\n",
    "---------------------------------------------------------------------------------------------------------------------------------------------------------------------------------------------\n",
    "## [try]\n",
    "-  x：入力値, d：教師データ, W：重み, b：バイアス をそれぞれ定義しよう\n",
    "---------------------------------------------------------------------------------------------------------------------------------------------------------------------------------------------"
   ]
  },
  {
   "cell_type": "code",
   "execution_count": null,
   "metadata": {},
   "outputs": [],
   "source": [
    "import tensorflow as tf\n",
    "import matplotlib.pyplot as plt\n",
    "from tensorflow.examples.tutorials.mnist import input_data\n",
    "mnist = input_data.read_data_sets(\"MNIST_data/\", one_hot=True)\n",
    "\n",
    "## 【レポート提出者変更】\n",
    "%matplotlib inline\n",
    "\n",
    "iters_num = 100\n",
    "batch_size = 100\n",
    "plot_interval = 1\n",
    "\n",
    "# -------------- ここを補填 ------------------------\n",
    "x = \n",
    "d = \n",
    "W =\n",
    "b = \n",
    "# ------------------------------------------------------\n",
    "\n",
    "y = tf.nn.softmax(tf.matmul(x, W) + b)\n",
    "\n",
    "# 交差エントロピー\n",
    "cross_entropy = -tf.reduce_sum(d * tf.log(y), reduction_indices=[1])\n",
    "loss = tf.reduce_mean(cross_entropy)\n",
    "train = tf.train.GradientDescentOptimizer(0.1).minimize(loss)\n",
    "\n",
    "# 正誤を保存\n",
    "correct = tf.equal(tf.argmax(y, 1), tf.argmax(d, 1))\n",
    "# 正解率\n",
    "accuracy = tf.reduce_mean(tf.cast(correct, tf.float32))\n",
    "\n",
    "init = tf.global_variables_initializer()\n",
    "sess = tf.Session()\n",
    "sess.run(init)\n",
    "\n",
    "accuracies = []\n",
    "for i in range(iters_num):\n",
    "    x_batch, d_batch = mnist.train.next_batch(batch_size)\n",
    "    sess.run(train, feed_dict={x: x_batch, d: d_batch})\n",
    "    if (i+1) % plot_interval == 0:\n",
    "        print(sess.run(correct, feed_dict={x: mnist.test.images, d: mnist.test.labels}))\n",
    "        accuracy_val = sess.run(accuracy, feed_dict={x: mnist.test.images, d: mnist.test.labels})\n",
    "        accuracies.append(accuracy_val)\n",
    "        print('Generation: ' + str(i+1) + '. 正解率 = ' + str(accuracy_val))\n",
    "        \n",
    "        \n",
    "lists = range(0, iters_num, plot_interval)\n",
    "plt.plot(lists, accuracies)\n",
    "plt.title(\"accuracy\")\n",
    "plt.ylim(0, 1.0)\n",
    "plt.show()        "
   ]
  },
  {
   "cell_type": "code",
   "execution_count": null,
   "metadata": {},
   "outputs": [],
   "source": []
  }
 ],
 "metadata": {
  "kernelspec": {
   "display_name": "Python 3",
   "language": "python",
   "name": "python3"
  },
  "language_info": {
   "codemirror_mode": {
    "name": "ipython",
    "version": 3
   },
   "file_extension": ".py",
   "mimetype": "text/x-python",
   "name": "python",
   "nbconvert_exporter": "python",
   "pygments_lexer": "ipython3",
   "version": "3.6.8"
  }
 },
 "nbformat": 4,
 "nbformat_minor": 2
}
