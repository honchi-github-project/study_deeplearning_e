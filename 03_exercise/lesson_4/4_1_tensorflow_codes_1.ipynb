{
 "cells": [
  {
   "cell_type": "markdown",
   "metadata": {},
   "source": [
    "# TensolFlow"
   ]
  },
  {
   "cell_type": "markdown",
   "metadata": {},
   "source": [
    "## base"
   ]
  },
  {
   "cell_type": "markdown",
   "metadata": {},
   "source": [
    "### constant"
   ]
  },
  {
   "cell_type": "code",
   "execution_count": 1,
   "metadata": {},
   "outputs": [
    {
     "name": "stdout",
     "output_type": "stream",
     "text": [
      "a: Tensor(\"Const:0\", shape=(), dtype=int32)\n",
      "b: Tensor(\"Const_1:0\", shape=(3, 2), dtype=float32)\n",
      "c: Tensor(\"Const_2:0\", shape=(2, 2), dtype=float32)\n",
      "a: 1\n",
      "b: [[2. 2.]\n",
      " [2. 2.]\n",
      " [2. 2.]]\n",
      "c: [[0. 1.]\n",
      " [2. 3.]]\n"
     ]
    }
   ],
   "source": [
    "import tensorflow as tf\n",
    "import numpy as np\n",
    "\n",
    "# それぞれ定数を定義\n",
    "a = tf.constant(1)\n",
    "b = tf.constant(2, dtype=tf.float32, shape=[3,2])\n",
    "c = tf.constant(np.arange(4), dtype=tf.float32, shape=[2,2])\n",
    "\n",
    "print('a:', a)\n",
    "print('b:', b)\n",
    "print('c:', c)\n",
    "\n",
    "sess = tf.Session()\n",
    "\n",
    "print('a:', sess.run(a))\n",
    "print('b:', sess.run(b))\n",
    "print('c:', sess.run(c))"
   ]
  },
  {
   "cell_type": "markdown",
   "metadata": {},
   "source": [
    "### placeholder"
   ]
  },
  {
   "cell_type": "code",
   "execution_count": 2,
   "metadata": {},
   "outputs": [
    {
     "name": "stdout",
     "output_type": "stream",
     "text": [
      "x: Tensor(\"Placeholder:0\", shape=(?, 3), dtype=float32)\n",
      "X: [[0.76290103 0.01484905 0.9107161 ]\n",
      " [0.45352773 0.70642146 0.18080355]]\n",
      "x: [[0.762901   0.01484905 0.9107161 ]]\n",
      "x: [[0.45352772 0.70642143 0.18080355]]\n"
     ]
    }
   ],
   "source": [
    "import tensorflow as tf\n",
    "import numpy as np\n",
    "\n",
    "# プレースホルダーを定義\n",
    "x = tf.placeholder(dtype=tf.float32, shape=[None,3])\n",
    "\n",
    "print('x:', x)\n",
    "\n",
    "sess = tf.Session()\n",
    "\n",
    "X = np.random.rand(2,3)\n",
    "print('X:', X)\n",
    "\n",
    "# プレースホルダにX[0]を入力\n",
    "# shapeを(3,)から(1,3)にするためreshape\n",
    "print('x:', sess.run(x, feed_dict={x:X[0].reshape(1,-1)}))\n",
    "# プレースホルダにX[1]を入力\n",
    "print('x:', sess.run(x, feed_dict={x:X[1].reshape(1,-1)}))"
   ]
  },
  {
   "cell_type": "markdown",
   "metadata": {},
   "source": [
    "### variables"
   ]
  },
  {
   "cell_type": "code",
   "execution_count": 3,
   "metadata": {},
   "outputs": [
    {
     "name": "stdout",
     "output_type": "stream",
     "text": [
      "a: Tensor(\"Const_3:0\", shape=(), dtype=int32)\n",
      "WARNING:tensorflow:From /Users/honchi/.anyenv/envs/pyenv/versions/anaconda3-4.4.0/lib/python3.6/site-packages/tensorflow/python/framework/op_def_library.py:263: colocate_with (from tensorflow.python.framework.ops) is deprecated and will be removed in a future version.\n",
      "Instructions for updating:\n",
      "Colocations handled automatically by placer.\n",
      "x: <tf.Variable 'Variable:0' shape=() dtype=int32_ref>\n",
      "1\n",
      "10\n",
      "100\n"
     ]
    }
   ],
   "source": [
    "# 定数を定義\n",
    "a = tf.constant(10)\n",
    "print('a:', a)\n",
    "# 変数を定義\n",
    "x = tf.Variable(1)\n",
    "print('x:', x)\n",
    "\n",
    "calc_op = x * a\n",
    "\n",
    "# xの値を更新\n",
    "update_x = tf.assign(x, calc_op)\n",
    "\n",
    "sess = tf.Session()\n",
    "\n",
    "# 変数の初期化\n",
    "init = tf.global_variables_initializer()\n",
    "sess.run(init)\n",
    "\n",
    "print(sess.run(x))\n",
    "\n",
    "sess.run(update_x)\n",
    "print(sess.run(x))\n",
    "\n",
    "sess.run(update_x)\n",
    "print(sess.run(x))"
   ]
  },
  {
   "cell_type": "markdown",
   "metadata": {},
   "source": [
    "## 線形回帰\n",
    "---------------------------------------------------------------------------------------------------------------------------------------------------------------------------------------------\n",
    "### [try]\n",
    "-  noiseの値を変更しよう\n",
    "-  dの数値を変更しよう\n",
    "---------------------------------------------------------------------------------------------------------------------------------------------------------------------------------------------"
   ]
  },
  {
   "cell_type": "code",
   "execution_count": 3,
   "metadata": {},
   "outputs": [
    {
     "name": "stdout",
     "output_type": "stream",
     "text": [
      "Generation: 10. 誤差 = 0.28677246\n",
      "Generation: 20. 誤差 = 0.2142531\n",
      "Generation: 30. 誤差 = 0.1859216\n",
      "Generation: 40. 誤差 = 0.16420808\n",
      "Generation: 50. 誤差 = 0.1475063\n",
      "Generation: 60. 誤差 = 0.13465932\n",
      "Generation: 70. 誤差 = 0.12477738\n",
      "Generation: 80. 誤差 = 0.11717619\n",
      "Generation: 90. 誤差 = 0.111329384\n",
      "Generation: 100. 誤差 = 0.10683205\n",
      "Generation: 110. 誤差 = 0.10337271\n",
      "Generation: 120. 誤差 = 0.10071175\n",
      "Generation: 130. 誤差 = 0.098664925\n",
      "Generation: 140. 誤差 = 0.09709059\n",
      "Generation: 150. 誤差 = 0.095879555\n",
      "Generation: 160. 誤差 = 0.094948046\n",
      "Generation: 170. 誤差 = 0.09423151\n",
      "Generation: 180. 誤差 = 0.09368036\n",
      "Generation: 190. 誤差 = 0.09325643\n",
      "Generation: 200. 誤差 = 0.092930324\n",
      "Generation: 210. 誤差 = 0.09267946\n",
      "Generation: 220. 誤差 = 0.09248653\n",
      "Generation: 230. 誤差 = 0.092338145\n",
      "Generation: 240. 誤差 = 0.09222397\n",
      "Generation: 250. 誤差 = 0.092136145\n",
      "Generation: 260. 誤差 = 0.09206861\n",
      "Generation: 270. 誤差 = 0.09201666\n",
      "Generation: 280. 誤差 = 0.0919767\n",
      "Generation: 290. 誤差 = 0.09194596\n",
      "Generation: 300. 誤差 = 0.09192233\n",
      "[3.0200126]\n",
      "[1.9408373]\n"
     ]
    },
    {
     "data": {
      "image/png": "[encoded data removed]",
      "text/plain": [
       "<matplotlib.figure.Figure at 0xb37ea8eb8>"
      ]
     },
     "metadata": {
      "needs_background": "light"
     },
     "output_type": "display_data"
    }
   ],
   "source": [
    "import numpy as np\n",
    "import tensorflow as tf\n",
    "import matplotlib.pyplot as plt\n",
    "\n",
    "## 【レポート提出者変更】\n",
    "%matplotlib inline\n",
    "\n",
    "iters_num = 300\n",
    "plot_interval = 10\n",
    "\n",
    "# データを生成\n",
    "n = 100\n",
    "x = np.random.rand(n)\n",
    "d = 3 * x + 2         # 3 * x + 2\n",
    "\n",
    "# ノイズを加える\n",
    "noise = 0.3           # original 0.3\n",
    "d = d + noise * np.random.randn(n) \n",
    "\n",
    "# 入力値\n",
    "xt = tf.placeholder(tf.float32)\n",
    "dt = tf.placeholder(tf.float32)\n",
    "\n",
    "# 最適化の対象の変数を初期化\n",
    "W = tf.Variable(tf.zeros([1]))\n",
    "b = tf.Variable(tf.zeros([1]))\n",
    "\n",
    "y = W * xt + b\n",
    "\n",
    "# 誤差関数 平均2乗誤差\n",
    "loss = tf.reduce_mean(tf.square(y - dt))\n",
    "optimizer = tf.train.GradientDescentOptimizer(0.1)\n",
    "train = optimizer.minimize(loss)\n",
    "\n",
    "# 初期化\n",
    "init = tf.global_variables_initializer()\n",
    "sess = tf.Session()\n",
    "sess.run(init)\n",
    "\n",
    "# 作成したデータをトレーニングデータとして準備\n",
    "x_train = x.reshape(-1,1)\n",
    "d_train = d.reshape(-1,1)\n",
    "\n",
    "# トレーニング\n",
    "for i in range(iters_num):\n",
    "    sess.run(train, feed_dict={xt:x_train,dt:d_train})\n",
    "    if (i+1) % plot_interval == 0:\n",
    "        loss_val = sess.run(loss, feed_dict={xt:x_train,dt:d_train}) \n",
    "        W_val = sess.run(W)\n",
    "        b_val = sess.run(b)\n",
    "        print('Generation: ' + str(i+1) + '. 誤差 = ' + str(loss_val))\n",
    "\n",
    "print(W_val)\n",
    "print(b_val)\n",
    "\n",
    "#  予測関数\n",
    "def predict(x):\n",
    "    return W_val * x + b_val\n",
    "\n",
    "fig = plt.figure()\n",
    "subplot = fig.add_subplot(1, 1, 1)\n",
    "plt.scatter(x, d)\n",
    "linex = np.linspace(0, 1, 2)\n",
    "liney = predict(linex)\n",
    "subplot.plot(linex,liney)\n",
    "plt.show()"
   ]
  },
  {
   "cell_type": "code",
   "execution_count": null,
   "metadata": {},
   "outputs": [],
   "source": []
  }
 ],
 "metadata": {
  "kernelspec": {
   "display_name": "Python 3",
   "language": "python",
   "name": "python3"
  },
  "language_info": {
   "codemirror_mode": {
    "name": "ipython",
    "version": 3
   },
   "file_extension": ".py",
   "mimetype": "text/x-python",
   "name": "python",
   "nbconvert_exporter": "python",
   "pygments_lexer": "ipython3",
   "version": "3.6.8"
  }
 },
 "nbformat": 4,
 "nbformat_minor": 2
}
